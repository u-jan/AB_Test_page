{
 "cells": [
  {
   "cell_type": "markdown",
   "metadata": {},
   "source": [
    "### EXPERIMENTAL DESIGN"
   ]
  },
  {
   "cell_type": "markdown",
   "metadata": {},
   "source": [
    "### Part 2: A/B Testing"
   ]
  },
  {
   "cell_type": "markdown",
   "metadata": {},
   "source": [
    "Designers at Etsy have created a new landing page in an attempt to improve sign-up rate for local meetups.\n",
    "\n",
    "The historic sign-up rate for the old landing page is 10%. An improvement in the sign-up rate to only 10.1%, while just a .1% absolute improvement, actually means a lift in conversion of 1% (because the percent change from 10% to 10.1% is 1%). If statistically significant, the new landing page would be considered a success. The product manager will not consider implementing the new page if the lift is not greater than or equal to 1%.\n",
    "\n",
    "Your task is to determine if the new landing page can provide a 1% or more lift to the sign-up rate. You are also given the understanding that there is a very different user base on weekends and a significant amount of the revenue comes from those weekend users.\n",
    "\n"
   ]
  },
  {
   "cell_type": "markdown",
   "metadata": {},
   "source": [
    "Building hyothesis testing, a moment before to consider what is the actual business queston: \n",
    "***if the new landing page can provide a 1% or more lift to the sign-up rate***\n",
    "\n",
    "\n",
    "Consider the equavalent of 1% increase of 10%. We are actually speaking about\n",
    "\n",
    "1% * 10%(0.01 * 0.1) improvement which is 0.001\n",
    "\n",
    "\n",
    "\n",
    "- Ho: pa - po <= 0.001 No difference.\n",
    "- Ha: pa - p0  > 0.001 new design presents higher conversion rate. \n",
    "- One tailed because we are interested in improvement in accordance to historical data(increased power)\n",
    "\n",
    "Two sample z-test on proportions to see if the 1% lift is by random chance or not. \n",
    "\n",
    "We could randomly divert 50% of incoming users to \n",
    "the new page, and direct the other 50% of users to the old page. \n",
    "And sending users \n",
    "to both webpages at the same time allows us to account for the dependency of signup rates\n",
    "on time and day of the week (as opposed to, e.g., testing one page on the weekend\n",
    "and the other page on weekdays, which would be totally confounded by day of the\n",
    "week!). We should keep in mind that it's possible for one landing page to be better on \n",
    "weekdays while the other is better on weekends since we have prior information that \n",
    "weekday and weekend populations are distinct. In light of this we might consider \n",
    "carrying out two tests -- one for weekdays and one for weekends -- and entertain the \n",
    "notion of different websites for the weekdays and weekends."
   ]
  },
  {
   "cell_type": "code",
   "execution_count": 187,
   "metadata": {},
   "outputs": [],
   "source": [
    "# will need these\n",
    "import numpy as np\n",
    "import pandas as pd\n",
    "import matplotlib.pyplot as plt\n",
    "from z_test.z_test import z_test"
   ]
  },
  {
   "cell_type": "markdown",
   "metadata": {},
   "source": [
    "Why is it useful to report the change in conversion in terms of lift instead of absolute difference in conversion?\n",
    "\n",
    "Conversion lift provides a measure of relative improvement, as opposed to\n",
    "absolute improvement.  When we do classical statistical hypothesis testing \n",
    "we are examining the statistical significance of *differences* between \n",
    "statistics in an absolute sense.  But not all differences of the same size\n",
    "have the same *impact* on a business.  Lift on the other had shows you\n",
    "improvement (or decline) relative to your current performance levels."
   ]
  },
  {
   "cell_type": "markdown",
   "metadata": {},
   "source": [
    "Lets work with actual data now. Imagine that we ran a pilot experiment for day1(Tuesday).\n",
    "\n",
    "Import the data to the df."
   ]
  },
  {
   "cell_type": "code",
   "execution_count": 188,
   "metadata": {},
   "outputs": [],
   "source": [
    "df = pd.read_csv('data/experiment.csv')"
   ]
  },
  {
   "cell_type": "markdown",
   "metadata": {},
   "source": [
    "Lets have a look."
   ]
  },
  {
   "cell_type": "code",
   "execution_count": 189,
   "metadata": {},
   "outputs": [
    {
     "data": {
      "text/html": [
       "<div>\n",
       "<style>\n",
       "    .dataframe thead tr:only-child th {\n",
       "        text-align: right;\n",
       "    }\n",
       "\n",
       "    .dataframe thead th {\n",
       "        text-align: left;\n",
       "    }\n",
       "\n",
       "    .dataframe tbody tr th {\n",
       "        vertical-align: top;\n",
       "    }\n",
       "</style>\n",
       "<table border=\"1\" class=\"dataframe\">\n",
       "  <thead>\n",
       "    <tr style=\"text-align: right;\">\n",
       "      <th></th>\n",
       "      <th>user_id</th>\n",
       "      <th>ts</th>\n",
       "      <th>ab</th>\n",
       "      <th>landing_page</th>\n",
       "      <th>converted</th>\n",
       "    </tr>\n",
       "  </thead>\n",
       "  <tbody>\n",
       "    <tr>\n",
       "      <th>0</th>\n",
       "      <td>4040615247</td>\n",
       "      <td>1.356998e+09</td>\n",
       "      <td>treatment</td>\n",
       "      <td>new_page</td>\n",
       "      <td>0</td>\n",
       "    </tr>\n",
       "    <tr>\n",
       "      <th>1</th>\n",
       "      <td>4365389205</td>\n",
       "      <td>1.356998e+09</td>\n",
       "      <td>treatment</td>\n",
       "      <td>new_page</td>\n",
       "      <td>0</td>\n",
       "    </tr>\n",
       "    <tr>\n",
       "      <th>2</th>\n",
       "      <td>4256174578</td>\n",
       "      <td>1.356998e+09</td>\n",
       "      <td>treatment</td>\n",
       "      <td>new_page</td>\n",
       "      <td>0</td>\n",
       "    </tr>\n",
       "    <tr>\n",
       "      <th>3</th>\n",
       "      <td>8122359922</td>\n",
       "      <td>1.356998e+09</td>\n",
       "      <td>control</td>\n",
       "      <td>old_page</td>\n",
       "      <td>0</td>\n",
       "    </tr>\n",
       "    <tr>\n",
       "      <th>4</th>\n",
       "      <td>6077269891</td>\n",
       "      <td>1.356998e+09</td>\n",
       "      <td>control</td>\n",
       "      <td>old_page</td>\n",
       "      <td>0</td>\n",
       "    </tr>\n",
       "  </tbody>\n",
       "</table>\n",
       "</div>"
      ],
      "text/plain": [
       "      user_id            ts         ab landing_page  converted\n",
       "0  4040615247  1.356998e+09  treatment     new_page          0\n",
       "1  4365389205  1.356998e+09  treatment     new_page          0\n",
       "2  4256174578  1.356998e+09  treatment     new_page          0\n",
       "3  8122359922  1.356998e+09    control     old_page          0\n",
       "4  6077269891  1.356998e+09    control     old_page          0"
      ]
     },
     "execution_count": 189,
     "metadata": {},
     "output_type": "execute_result"
    }
   ],
   "source": [
    "df.head()"
   ]
  },
  {
   "cell_type": "markdown",
   "metadata": {},
   "source": [
    "Lets see if there are duplicates or not"
   ]
  },
  {
   "cell_type": "code",
   "execution_count": 190,
   "metadata": {},
   "outputs": [
    {
     "data": {
      "text/plain": [
       "array([2, 1])"
      ]
     },
     "execution_count": 190,
     "metadata": {},
     "output_type": "execute_result"
    }
   ],
   "source": [
    "df.user_id.value_counts().unique()  # oh there they are, what should we do?"
   ]
  },
  {
   "cell_type": "code",
   "execution_count": 191,
   "metadata": {},
   "outputs": [],
   "source": [
    "# df.drop_duplicates(subset = \"user_id\",keep= False, inplace = True)"
   ]
  },
  {
   "cell_type": "code",
   "execution_count": 192,
   "metadata": {},
   "outputs": [],
   "source": [
    "# df.user_id.value_counts().unique()  # Not on my watch..."
   ]
  },
  {
   "cell_type": "code",
   "execution_count": 193,
   "metadata": {},
   "outputs": [
    {
     "data": {
      "text/plain": [
       "(191148, 5)"
      ]
     },
     "execution_count": 193,
     "metadata": {},
     "output_type": "execute_result"
    }
   ],
   "source": [
    "df.shape"
   ]
  },
  {
   "cell_type": "markdown",
   "metadata": {},
   "source": [
    " If customers are in the treatment group they shall see the new page else they shall see the old page. Our dataset actually included rows which stands for the oposite condition of this argument. Nevertheles we got rid of them as we used drop_droplicates. Following piece of code also gets rid of the unwanted condition."
   ]
  },
  {
   "cell_type": "code",
   "execution_count": 194,
   "metadata": {},
   "outputs": [],
   "source": [
    "df = df[(df.ab == 'treatment') & (df.landing_page == 'new_page')|(df.ab == 'control') & (df.landing_page == 'old_page')]"
   ]
  },
  {
   "cell_type": "code",
   "execution_count": 195,
   "metadata": {},
   "outputs": [
    {
     "data": {
      "text/plain": [
       "(186389, 5)"
      ]
     },
     "execution_count": 195,
     "metadata": {},
     "output_type": "execute_result"
    }
   ],
   "source": [
    "df.shape"
   ]
  },
  {
   "cell_type": "markdown",
   "metadata": {},
   "source": [
    "### Z-test \n",
    "\n",
    "Lets calculate a p-value for a 1% lift from using the new page compare to the old page.\n",
    "\n",
    "Using z_test we may need to highlight some assumptions. \n",
    "\n",
    "We will need to Interpret the p-value as a result of z-test which will give us direction about the decision between the new or the old page."
   ]
  },
  {
   "cell_type": "code",
   "execution_count": 196,
   "metadata": {},
   "outputs": [],
   "source": [
    "def calc_conversion_rate(data, page_type):\n",
    "    \"\"\"Counts proportion of total visits resulting in a conversion\n",
    "    Parameters\n",
    "    ----------\n",
    "    data: Pandas DataFrame\n",
    "        A/B testing storage DataFrame with columns 'converted' (1=yes, 0=no)\n",
    "        and 'landing_page' with values \"new_page\" or \"old_page\"\n",
    "    page_type: str (\"new\" or \"old\")\n",
    "        corresponding to the \"new_page\"/\"old_page\"\n",
    "    Returns\n",
    "    -------\n",
    "    float: proportion of total visits converted for input page_type\n",
    "    \"\"\"\n",
    "\n",
    "    total_vis = data[data['landing_page'] == page_type + '_page']\n",
    "    converted = total_vis[total_vis['converted'] == 1].shape[0]\n",
    "    return float(converted) / total_vis.shape[0], total_vis.shape[0]"
   ]
  },
  {
   "cell_type": "code",
   "execution_count": 197,
   "metadata": {},
   "outputs": [
    {
     "data": {
      "text/plain": [
       "(0.09968192186159416, 95574)"
      ]
     },
     "execution_count": 197,
     "metadata": {},
     "output_type": "execute_result"
    }
   ],
   "source": [
    "new_cr = calc_conversion_rate(df, \"new\")\n",
    "new_cr"
   ]
  },
  {
   "cell_type": "code",
   "execution_count": 198,
   "metadata": {},
   "outputs": [
    {
     "data": {
      "text/plain": [
       "(0.09964212960414029, 90815)"
      ]
     },
     "execution_count": 198,
     "metadata": {},
     "output_type": "execute_result"
    }
   ],
   "source": [
    "old_cr = calc_conversion_rate(df, \"old\")\n",
    "old_cr"
   ]
  },
  {
   "cell_type": "markdown",
   "metadata": {},
   "source": [
    "With the assumption of the two proportions are equal.\n",
    "\n",
    "\n",
    "`z_score = (ctr_new - ctr_old - effect_size) / se`\n",
    "\n",
    "\n",
    "`se = sqrt(conversion * (1 - conversion) * (1 / nobs_old + 1 / nobs_new))`\n",
    "\n",
    "with `conversion` being the overall conversion rate averaging across pages."
   ]
  },
  {
   "cell_type": "code",
   "execution_count": 199,
   "metadata": {},
   "outputs": [
    {
     "data": {
      "text/plain": [
       "0.00039935173617787733"
      ]
     },
     "execution_count": 199,
     "metadata": {},
     "output_type": "execute_result"
    }
   ],
   "source": [
    "increase_ratio = (new_cr[0] - old_cr[0]) / old_cr[0]\n",
    "increase_ratio"
   ]
  },
  {
   "cell_type": "markdown",
   "metadata": {},
   "source": [
    "The conversion rates for new page are 0.00039* higher compared to that of old page. \n",
    "Now we need to check if the difference is statistically significant.(eh I don't think so :)\n",
    "How do we do that?\n",
    "\n"
   ]
  },
  {
   "cell_type": "markdown",
   "metadata": {},
   "source": [
    "Okay simply getting the p-value is easy. So to be more even more accurate about our analisis, how about getting p-values for each and every hour of the day?"
   ]
  },
  {
   "cell_type": "code",
   "execution_count": 200,
   "metadata": {},
   "outputs": [],
   "source": [
    "def plot_pval(data):\n",
    "    \"\"\"plots p-value based on hourly testing of running A/B test\n",
    "    Parameters\n",
    "    ----------\n",
    "    data: Pandas DataFrame\n",
    "        A/B testing storage DataFrame with columns 'hour' converted' and 'landing_page'\n",
    "    Returns\n",
    "    -------\n",
    "    None: A plot is produced buy no axis object is returned\n",
    "    \"\"\"\n",
    "\n",
    "    pval_lst = []\n",
    "    datetime = data.ts.astype('datetime64[s]')\n",
    "    hour = datetime.apply(lambda x: x.hour)\n",
    "    data['hour'] = hour\n",
    "    # Run the test as the data accumulates hourly\n",
    "    for hr in hour.unique():\n",
    "        hr_data = data[data['hour'] <= hr]\n",
    "        # data for old landing page\n",
    "        old = hr_data[hr_data['landing_page'] == 'old_page']['converted']\n",
    "        old_nrow = old.shape[0]\n",
    "        old_conversion = old.mean()\n",
    "        # data for new landing page\n",
    "        new = hr_data[hr_data['landing_page'] == 'new_page']['converted']\n",
    "        new_nrow = new.shape[0]\n",
    "        new_conversion = new.mean()\n",
    "        # Run the z-test\n",
    "        p_val = z_test(old_conversion, new_conversion,\n",
    "                       old_nrow, new_nrow, effect_size=0.001,\n",
    "                       two_tailed=True, alpha=.05)\n",
    "        pval_lst.append(p_val[1])\n",
    "\n",
    "    # Make the plot\n",
    "    plt.plot(pval_lst, marker='o')\n",
    "    plt.ylabel('p-value', fontweight='bold', fontsize=14)\n",
    "    plt.xlabel('Hour in the day', fontweight='bold', fontsize=14)\n",
    "    plt.axhline(0.05, linestyle='--', color='r')"
   ]
  },
  {
   "cell_type": "code",
   "execution_count": 201,
   "metadata": {},
   "outputs": [
    {
     "name": "stdout",
     "output_type": "stream",
     "text": [
      "z-score: 0.5364599453482073, p-value: 0.5916407114301225, reject null: False\n",
      "z-score: 0.3433997327799706, p-value: 0.7312977605307831, reject null: False\n",
      "z-score: 0.5994611696032183, p-value: 0.5488653966277077, reject null: False\n",
      "z-score: 0.5562677616353544, p-value: 0.5780278223400872, reject null: False\n",
      "z-score: 0.37718605754374995, p-value: 0.706035340889885, reject null: False\n",
      "z-score: 0.4976825053001899, p-value: 0.6187078408458233, reject null: False\n",
      "z-score: -0.1129539398684361, p-value: 0.9100670720900992, reject null: False\n",
      "z-score: -0.08019298224368922, p-value: 0.9360837715456669, reject null: False\n",
      "z-score: 0.017790064149429817, p-value: 0.9858063311672434, reject null: False\n",
      "z-score: -0.6801761051390897, p-value: 0.4963929603079378, reject null: False\n",
      "z-score: -0.8008499531901787, p-value: 0.4232185160925157, reject null: False\n",
      "z-score: -0.6195274608033423, p-value: 0.5355689371524206, reject null: False\n",
      "z-score: -0.7968141491026892, p-value: 0.4255589764379981, reject null: False\n",
      "z-score: -1.1105546345614283, p-value: 0.26676009896636366, reject null: False\n",
      "z-score: -1.3348883012859487, p-value: 0.18191290722383302, reject null: False\n",
      "z-score: -1.6917523200556583, p-value: 0.09069320807716674, reject null: False\n",
      "z-score: -1.480765232673949, p-value: 0.1386691441770831, reject null: False\n",
      "z-score: -1.5517250737600454, p-value: 0.12072802051497522, reject null: False\n",
      "z-score: -1.0322810609792181, p-value: 0.30194047061286744, reject null: False\n",
      "z-score: -1.2627309862894, p-value: 0.20668587420124496, reject null: False\n",
      "z-score: -1.1873055068202343, p-value: 0.2351071367533908, reject null: False\n",
      "z-score: -1.185281610155612, p-value: 0.23590612200536398, reject null: False\n",
      "z-score: -0.8201668994595738, p-value: 0.4121209688540337, reject null: False\n",
      "z-score: -0.6917276180865002, p-value: 0.4891083995423706, reject null: False\n"
     ]
    },
    {
     "data": {
      "image/png": "[encoded data removed]",
      "text/plain": [
       "<Figure size 432x288 with 1 Axes>"
      ]
     },
     "metadata": {
      "needs_background": "light"
     },
     "output_type": "display_data"
    }
   ],
   "source": [
    "plot_pval(df)"
   ]
  },
  {
   "cell_type": "markdown",
   "metadata": {},
   "source": [
    "### Conclusion\n",
    "\n",
    "A p-value is *the probability of observing a test statistic as or more extreme \n",
    "than what we saw in the data given the null hypothesis.  At at the 0.05 \n",
    "significance level, even if the null hypothesis is true, there is a 5% chance \n",
    "that we may mistakenly reject it in favor of the alternative. \n",
    "\n",
    "Looks like each p-value is higher than 5%, therefore we fail to reject the null hypothesis which states that conversion rates for the old and new page are different. At this point I would try a more interesting design in order to run the test again(depending on the cost)."
   ]
  },
  {
   "cell_type": "markdown",
   "metadata": {},
   "source": [
    "**Question:** Assume your test was insignificant. Given the setting of the experiment and the context of the problem, why might you be hesitant to make the conclusion to not use the new landing page. What would you do instead?\n",
    "\n",
    "We know that (a) the user base may be different on the weekend, and (b) that \n",
    "sign-up rates are actually driven more by weekend users than weekday users. In \n",
    "A/B testing we often have to take into account other confounding factors that\n",
    "may be influential in driving response and carefully weigh these into our \n",
    "analyses informing adoption of a new landing page.  Here, the landing \n",
    "page may work for weekend users, but not 'Tuesday' users.\n",
    "\n",
    "Lets have a closer look, shall we?\n",
    "\n",
    "Well unfortunatelly we have data only for Tuesday(In fact I converted timestamp to day of the week and somehow we have some monday data as well, but lets keep it as a secret:)\n",
    "\n",
    "On the other hand what would we do if we had data about each and every day? \n",
    "\n",
    "- Run a seperate analisis for weekend data by seperating the dataset with following mock code. And rerun the function called plot_pval in order to see individual p-vals for each hour of Saturday and Sunday which will present significant behavioral differences of customers between weekend and weekdays."
   ]
  },
  {
   "cell_type": "code",
   "execution_count": 167,
   "metadata": {},
   "outputs": [],
   "source": [
    "def dayz(x):\n",
    "    date = time.ctime(int(x))\n",
    "    day = date[0:3]\n",
    "    if day in ['Sat','Sun']:\n",
    "        weekend = 1\n",
    "    else:\n",
    "        weekend = 0\n",
    "    return weekend\n",
    "    \n",
    "df['weekend'] = df['ts'].map(dayz)\n",
    "\n",
    "# df = df.drop(df[df.weekend != 1].index)"
   ]
  },
  {
   "cell_type": "code",
   "execution_count": null,
   "metadata": {},
   "outputs": [],
   "source": []
  }
 ],
 "metadata": {
  "kernelspec": {
   "display_name": "Python 3",
   "language": "python",
   "name": "python3"
  },
  "language_info": {
   "codemirror_mode": {
    "name": "ipython",
    "version": 3
   },
   "file_extension": ".py",
   "mimetype": "text/x-python",
   "name": "python",
   "nbconvert_exporter": "python",
   "pygments_lexer": "ipython3",
   "version": "3.6.3"
  }
 },
 "nbformat": 4,
 "nbformat_minor": 2
}
